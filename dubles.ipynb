{
 "cells": [
  {
   "cell_type": "markdown",
   "id": "4d3c56fe-4a5c-4f04-ba07-63009e0f52c9",
   "metadata": {},
   "source": [
    "# Dublês de teste\n",
    "\n",
    "Normalmente quando falamos de mocks, estamos nos referindo a um componente simulado de software. Porém existem vários tipos de simulações que podem ser feitas que podem ajudar a escrever os testes.\n",
    "\n",
    "Vamos conceituar cada um dos tipos de dublês de teste e como poderiam ser utilizados para testar a função apresentada acima.\n",
    "\n",
    "> 💡 As definições em inglês foram retiradas de: https://martinfowler.com/bliki/TestDouble.html"
   ]
  },
  {
   "cell_type": "markdown",
   "id": "06ff93da-348f-4bc4-a0dc-933c3ecbc7f4",
   "metadata": {},
   "source": [
    "## Dummy\n",
    "\n",
    "> Dummy objects are passed around but never actually used. Usually they are just used to fill parameter lists.\n",
    "\n",
    "São objetos “dummy”, ou seja falsos, fictícios, que serão utilizados apenas para preencher a lista de parâmetros obrigatórios, mas não serão utilizados."
   ]
  },
  {
   "cell_type": "code",
   "execution_count": 31,
   "id": "b0e6b154-b05d-480b-b406-6429c3bc83be",
   "metadata": {},
   "outputs": [],
   "source": [
    "// FormatToISO8601 formats a date to the ISO 8601 standard.\n",
    "// Example: \n",
    "//   date := time.Date(2024, time.December, 9, 15, 4, 5, 0, time.UTC)\n",
    "//   fmt.Println(FormatToISO8601(date)) // Output: \"2024-12-09T15:04:05Z\"\n",
    "func FormatToISO8601(date time.Time) string {\n",
    "\treturn date.Format(time.RFC3339)\n",
    "}"
   ]
  },
  {
   "cell_type": "code",
   "execution_count": 32,
   "id": "b51b318e-ecb5-4333-92a9-a54986a0777f",
   "metadata": {},
   "outputs": [
    {
     "name": "stdout",
     "output_type": "stream",
     "text": [
      "=== RUN   TestFormatToISO8601WithDummyDate\n",
      "--- PASS: TestFormatToISO8601WithDummyDate (0.00s)\n",
      "PASS\n"
     ]
    }
   ],
   "source": [
    "func TestFormatToISO8601WithDummyDate(t *testing.T) {\n",
    "\tdummyDate := time.Date(2024, time.December, 9, 15, 4, 5, 0, time.UTC)\n",
    "\tformattedDate := FormatToISO8601(dummyDate)\n",
    "\texpected := \"2024-12-09T15:04:05Z\"\n",
    "\t\n",
    "\tif formattedDate != expected {\n",
    "\t\tt.Errorf(\"expected '%s', got '%s'\", expected, formattedDate)\n",
    "\t}\n",
    "}\n",
    "\n",
    "%test"
   ]
  },
  {
   "cell_type": "markdown",
   "id": "503dedcd-4f62-466e-bd57-8ee55512c8a5",
   "metadata": {},
   "source": [
    "## Fake\n",
    "\n",
    "> Fake objects actually have working implementations, but usually take some shortcut which makes them not suitable for production (an InMemoryTestDatabase is a good example).\n",
    "\n",
    "São objetos falsos, com implementações concretas, porém simplificadas. Um bom exemplo são objetos que representam bancos de dados ou arquivos, porém com implementações em memória."
   ]
  },
  {
   "cell_type": "code",
   "execution_count": 33,
   "id": "3fe1d27e-ae30-4305-81d0-1630fee09f38",
   "metadata": {},
   "outputs": [],
   "source": [
    "type User struct {\n",
    "\tName  string\n",
    "\tEmail string\n",
    "}\n",
    " \n",
    "type UserStore interface {\n",
    "\tSave(ctx context.Context, user User) error\n",
    "}"
   ]
  },
  {
   "cell_type": "code",
   "execution_count": 34,
   "id": "32d34dbe-df96-4499-a494-8e61be3472ab",
   "metadata": {},
   "outputs": [],
   "source": [
    "type FakeUserStore struct {\n",
    "\tusers map[string]User\n",
    "}\n",
    "\n",
    "func (f *FakeUserStore) Save(ctx context.Context, user User) error {\n",
    "\tselect {\n",
    "\tcase <-ctx.Done():\n",
    "\t\treturn ctx.Err()\n",
    "\tdefault:\n",
    "\t\tf.users[user.Name] = user\n",
    "\t\treturn nil\n",
    "\t}\n",
    "}\n",
    "\n",
    "func NewFakeUserStore() *FakeUserStore {\n",
    "\treturn &FakeUserStore{\n",
    "\t\tusers: make(map[string]User),\n",
    "\t}\n",
    "}"
   ]
  },
  {
   "cell_type": "code",
   "execution_count": 35,
   "id": "f6bac4c2-5eb1-4cdb-9424-b8a65ba827c1",
   "metadata": {},
   "outputs": [
    {
     "name": "stdout",
     "output_type": "stream",
     "text": [
      "=== RUN   TestRegisterUser\n",
      "=== RUN   TestRegisterUser/successfully_registering_a_user\n",
      "=== RUN   TestRegisterUser/failure_registering_a_user_with_cancelled_context\n",
      "--- PASS: TestRegisterUser (0.00s)\n",
      "    --- PASS: TestRegisterUser/successfully_registering_a_user (0.00s)\n",
      "    --- PASS: TestRegisterUser/failure_registering_a_user_with_cancelled_context (0.00s)\n",
      "PASS\n"
     ]
    }
   ],
   "source": [
    "func RegisterUser(store UserStore, user User) error {\n",
    "\terr := store.Save(context.Background(), user)\n",
    "\tif err != nil {\n",
    "\t\treturn fmt.Errorf(\"error saving user: %v\", err)\n",
    "\t}\n",
    "\treturn nil\n",
    "}\n",
    "\n",
    "func TestRegisterUser(t *testing.T) {\n",
    "\tt.Run(\"successfully registering a user\", func(t *testing.T) {\n",
    "\t\tuserStore := NewFakeUserStore()\n",
    "\t\tuser := User{Name: \"John Doe\", Email: \"john.doe@example.com\"}\n",
    "\t\terr := RegisterUser(userStore, user)\n",
    "\t\tif err != nil {\n",
    "\t\t\tt.Fatalf(\"expected no error, but got: %v\", err)\n",
    "\t\t}\n",
    "\t\tif _, exists := userStore.users[user.Name]; !exists {\n",
    "\t\t\tt.Errorf(\"expected user '%s' to be saved, but not found\", user.Name)\n",
    "\t\t}\n",
    "\t})\n",
    "\n",
    "\tt.Run(\"failure registering a user with cancelled context\", func(t *testing.T) {\n",
    "\t\tuserStore := NewFakeUserStore()\n",
    "\t\tuser := User{Name: \"Jane Doe\", Email: \"jane.doe@example.com\"}\n",
    "\t\tctx, cancel := context.WithCancel(context.Background())\n",
    "\t\tcancel()\n",
    "\t\terr := userStore.Save(ctx, user)\n",
    "\t\tif err == nil {\n",
    "\t\t\tt.Fatalf(\"expected error due to context cancellation, but no error occurred\")\n",
    "\t\t}\n",
    "\t})\n",
    "}\n",
    "\n",
    "%test"
   ]
  },
  {
   "cell_type": "markdown",
   "id": "52581d22-6dfb-4b93-a239-8940482f3185",
   "metadata": {},
   "source": [
    "## Stub\n",
    "\n",
    "> Stubs provide canned answers to calls made during the test, usually not responding at all to anything outside what’s programmed in for the test.\n",
    "\n",
    "São substitutos que fornecem respostas previamente definidas, simulando assim o comportamento esperado."
   ]
  },
  {
   "cell_type": "code",
   "execution_count": 36,
   "id": "48a458b7-a3b3-4550-aa56-49cda915f512",
   "metadata": {},
   "outputs": [],
   "source": [
    "type ForGettingTaxRates interface {\n",
    "\tTaxRate(amount float64) float64\n",
    "}\n",
    "\n",
    "type TaxService struct {\n",
    "\tapi ForGettingTaxRates\n",
    "}\n",
    "\n",
    "func (s *TaxService) CalculateTax(amount float64) float64 {\n",
    "\ttaxRate := s.api.TaxRate(amount)\n",
    "\treturn amount * taxRate\n",
    "}\n"
   ]
  },
  {
   "cell_type": "code",
   "execution_count": 37,
   "id": "f9999e32-3199-4c18-9533-dfaac3ea093b",
   "metadata": {},
   "outputs": [],
   "source": [
    "type StubTaxAPI struct{}\n",
    "\n",
    "func (s *StubTaxAPI) TaxRate(amount float64) float64 {\n",
    "\tif amount > 0 && amount <= 100 {\n",
    "\t\treturn 0.07\n",
    "\t}\n",
    "\tif amount > 100 {\n",
    "\t\treturn 0.15\n",
    "\t}\n",
    "\treturn 0.0\n",
    "}"
   ]
  },
  {
   "cell_type": "code",
   "execution_count": 38,
   "id": "8bc4fc58-b7f6-4c27-a312-5b2867b4e7a5",
   "metadata": {},
   "outputs": [
    {
     "name": "stdout",
     "output_type": "stream",
     "text": [
      "=== RUN   TestCalculateTax\n",
      "=== RUN   TestCalculateTax/should_calculate_tax_for_amounts_less_than_or_equal_to_100\n",
      "=== RUN   TestCalculateTax/should_calculate_tax_for_amounts_greater_than_100\n",
      "=== RUN   TestCalculateTax/should_return_tax_0_for_negative_or_zero_amounts\n",
      "--- PASS: TestCalculateTax (0.00s)\n",
      "    --- PASS: TestCalculateTax/should_calculate_tax_for_amounts_less_than_or_equal_to_100 (0.00s)\n",
      "    --- PASS: TestCalculateTax/should_calculate_tax_for_amounts_greater_than_100 (0.00s)\n",
      "    --- PASS: TestCalculateTax/should_return_tax_0_for_negative_or_zero_amounts (0.00s)\n",
      "PASS\n"
     ]
    }
   ],
   "source": [
    "func TestCalculateTax(t *testing.T) {\n",
    "\tstubAPI := &StubTaxAPI{}\n",
    "\ttaxService := &TaxService{api: stubAPI}\n",
    "\n",
    "\tt.Run(\"should calculate tax for amounts less than or equal to 100\", func(t *testing.T) {\n",
    "\t\tamount := 50.0\n",
    "\t\texpectedTax := 3.5  // 50 * 0.07 (7% de imposto)\n",
    "\n",
    "\t\ttax := taxService.CalculateTax(amount)\n",
    "\t\tassert.InDelta(t, expectedTax, tax, 0.01)\n",
    "\t})\n",
    "\n",
    "\tt.Run(\"should calculate tax for amounts greater than 100\", func(t *testing.T) {\n",
    "\t\tamount := 150.0\n",
    "\t\texpectedTax := 22.5  // 150 * 0.15 (15% de imposto)\n",
    "\n",
    "\t\ttax := taxService.CalculateTax(amount)\n",
    "\t\tassert.InDelta(t, expectedTax, tax, 0.01)\n",
    "\t})\n",
    "\n",
    "\tt.Run(\"should return tax 0 for negative or zero amounts\", func(t *testing.T) {\n",
    "\t\tamount := -10.0\n",
    "\n",
    "\t\ttax := taxService.CalculateTax(amount)\n",
    "\t\tassert.Equal(t, 0.0, tax)\n",
    "\t})\n",
    "}\n",
    "\n",
    "%test"
   ]
  },
  {
   "cell_type": "markdown",
   "id": "ace301c5-18cf-4f55-8130-b5107e4c9969",
   "metadata": {},
   "source": [
    "## Spies \n",
    "\n",
    "> Spies are stubs that also record some information based on how they were called. One form of this might be an email service that records how many messages it was sent.\n",
    "\n",
    "São stubs mas “espionam” como são invocados e mantém isto como informação a ser utilizada nas asserções."
   ]
  },
  {
   "cell_type": "code",
   "execution_count": 39,
   "id": "22a7e2cd-a0d9-46f7-98f6-52547cdcb29b",
   "metadata": {},
   "outputs": [],
   "source": [
    "type SpyForGettingTaxRates struct {\n",
    "\tcallCount int\n",
    "\tcalls     []float64\n",
    "\treturnValue float64\n",
    "}\n",
    "\n",
    "func (s *SpyForGettingTaxRates) TaxRate(amount float64) float64 {\n",
    "\ts.callCount++\n",
    "\ts.calls = append(s.calls, amount)\n",
    "\treturn s.returnValue // Return the mocked tax rate value\n",
    "}\n",
    "\n",
    "func (s *SpyForGettingTaxRates) GetCallCount() int {\n",
    "\treturn s.callCount\n",
    "}\n",
    "\n",
    "func (s *SpyForGettingTaxRates) GetCalls() []float64 {\n",
    "\treturn s.calls\n",
    "}"
   ]
  },
  {
   "cell_type": "code",
   "execution_count": 40,
   "id": "9025224f-0815-426a-abb9-867d9aefb191",
   "metadata": {},
   "outputs": [],
   "source": [
    "func TestCalculateTaxWithSpy_TaxRateCalled(t *testing.T) {\n",
    "\ttests := []struct {\n",
    "\t\tname          string\n",
    "\t\tamount        float64\n",
    "\t\texpectedTax   float64\n",
    "\t\texpectedValue float64\n",
    "\t}{\n",
    "\t\t{\"Tax for 100\", 100, 0.1, 10},\n",
    "\t\t{\"Tax for 200\", 200, 0.1, 20},\n",
    "\t\t{\"Tax for 150\", 150, 0.2, 30},\n",
    "\t}\n",
    "\n",
    "\t\n",
    "\tfor _, tt := range tests {\n",
    "\t\tt.Run(tt.name, func(t *testing.T) {\n",
    "\t\t\tspy := &SpyForGettingTaxRates{returnValue: tt.expectedTax}\n",
    "\t\t\ttaxService := &TaxService{api: spy}\n",
    "            \n",
    "\t\t\ttaxAmount := taxService.CalculateTax(tt.amount)\n",
    "            \n",
    "\t\t\tif spy.GetCallCount() != 1 {\n",
    "\t\t\t\tt.Errorf(\"Esperava que TaxRate fosse chamado 1 vez, mas foi chamado %d vezes\", spy.GetCallCount())\n",
    "\t\t\t}\n",
    "            \n",
    "\t\t\tif spy.GetCalls()[0] != tt.amount {\n",
    "\t\t\t\tt.Errorf(\"Esperava que TaxRate fosse chamado com %f, mas foi chamado com %f\", tt.amount, spy.GetCalls()[0])\n",
    "\t\t\t}\n",
    "\n",
    "\t\t\tif taxAmount != tt.expectedValue {\n",
    "\t\t\t\tt.Errorf(\"Esperava que o imposto fosse %f, mas obteve %f\", tt.expectedValue, taxAmount)\n",
    "\t\t\t}\n",
    "\t\t})\n",
    "\t}\n",
    "}"
   ]
  },
  {
   "cell_type": "markdown",
   "id": "5eca1692-4a05-4f79-92ca-be1d2d15bd84",
   "metadata": {},
   "source": [
    "## Mocks\n",
    "\n",
    "> Mocks are pre-programmed with expectations which form a specification of the calls they are expected to receive. They can throw an exception if they receive a call they don’t expect and are checked during verification to ensure they got all the calls they were expecting.\n",
    "\n",
    "A preocupação de mocks é verificar se o comportamento do dublê foi o esperado, fazendo asserções se o mock foi invocado, se os parâmetros na invocação foram corretos e o número de vezes em que foi invocado.\n",
    "\n",
    "ℹ️ Foi utilizado a biblioteca https://github.com/stretchr/testify/mock para este exemplo."
   ]
  },
  {
   "cell_type": "code",
   "execution_count": 41,
   "id": "f2cd73cc-b382-4f79-bdb5-7f2059fcad3a",
   "metadata": {},
   "outputs": [],
   "source": [
    "type EmailService interface {\n",
    "\tSendEmail(to string, subject string, body string) bool\n",
    "}\n",
    "\n",
    "\n",
    "type MockEmailService struct {\n",
    "\tmock.Mock\n",
    "}\n",
    "\n",
    "func (m *MockEmailService) SendEmail(to, subject, body string) bool {\n",
    "\targs := m.Called(to, subject, body)\n",
    "\treturn args.Bool(0)\n",
    "}\n",
    "\n",
    "type NotificationService struct {\n",
    "\temailService EmailService\n",
    "}\n",
    "\n",
    "func (n *NotificationService) Notify(to, subject, body string) bool {\n",
    "\treturn n.emailService.SendEmail(to, subject, body)\n",
    "}"
   ]
  },
  {
   "cell_type": "code",
   "execution_count": 42,
   "id": "cf06c086-fcc7-4401-90af-8b84fdd66c20",
   "metadata": {},
   "outputs": [
    {
     "name": "stdout",
     "output_type": "stream",
     "text": [
      "=== RUN   TestNotificationService_Notify\n",
      "--- PASS: TestNotificationService_Notify (0.00s)\n",
      "PASS\n"
     ]
    }
   ],
   "source": [
    "func TestNotificationService_Notify(t *testing.T) {\n",
    "\tmockEmailService := new(MockEmailService)\n",
    "\tmockEmailService.On(\"SendEmail\", \"test@example.com\", \"Test Subject\", \"Test Body\").Return(true)\n",
    "\n",
    "\tnotificationService := &NotificationService{\n",
    "\t\temailService: mockEmailService,\n",
    "\t}\n",
    "\n",
    "\tresult := notificationService.Notify(\"test@example.com\", \"Test Subject\", \"Test Body\")\n",
    "\n",
    "\tassert.True(t, result)\n",
    "\n",
    "\tmockEmailService.AssertExpectations(t)\n",
    "}\n",
    "\n",
    "%test"
   ]
  },
  {
   "cell_type": "markdown",
   "id": "0de603ac-eddd-44ca-966d-cad987635520",
   "metadata": {},
   "source": [
    "🤖 Para automação da criação de mocks para suas interfaces as bilbiotecas [mockery](https://vektra.github.io/mockery/latest/) e [uber-go/mock](https://github.com/uber-go/mock) são as mais utilizadas."
   ]
  },
  {
   "cell_type": "markdown",
   "id": "194ef7c6-4ea4-4367-961e-183fd47d837e",
   "metadata": {},
   "source": [
    "## 📚 Materiais interessantes:\n",
    "1. https://quii.gitbook.io/learn-go-with-tests\n",
    "2. https://blog.jetbrains.com/go/2022/11/22/comprehensive-guide-to-testing-in-go/\n",
    "3. https://gobyexample.com/testing"
   ]
  }
 ],
 "metadata": {
  "kernelspec": {
   "display_name": "Go (gonb)",
   "language": "go",
   "name": "gonb"
  },
  "language_info": {
   "codemirror_mode": "",
   "file_extension": ".go",
   "mimetype": "",
   "name": "go",
   "nbconvert_exporter": "",
   "pygments_lexer": "",
   "version": "go1.23.3"
  }
 },
 "nbformat": 4,
 "nbformat_minor": 5
}
